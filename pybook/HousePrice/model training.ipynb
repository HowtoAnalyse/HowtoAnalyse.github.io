{
 "cells": [
  {
   "cell_type": "markdown",
   "metadata": {},
   "source": [
    "There are methods that are common in machine learning projects like cross validation, grid searching and stacking.\n",
    "\n",
    "So I wrapped them into a common module in helper.py. \n",
    "\n",
    "In this script, I will call those functions directly. Feel free to have a check at my github for source code.\n",
    "\n"
   ]
  },
  {
   "cell_type": "code",
   "execution_count": 21,
   "metadata": {},
   "outputs": [],
   "source": [
    "from sklearn.linear_model import LinearRegression, Ridge, Lasso, ElasticNet, SGDRegressor, BayesianRidge\n",
    "from sklearn.ensemble import RandomForestRegressor, GradientBoostingRegressor, ExtraTreesRegressor\n",
    "from sklearn.svm import SVR, LinearSVR\n",
    "from sklearn.kernel_ridge import KernelRidge\n",
    "from xgboost import XGBRegressor\n",
    "\n",
    "import numpy as np\n",
    "import pandas as pd\n"
   ]
  },
  {
   "cell_type": "markdown",
   "metadata": {},
   "source": [
    "Here is a tip for building your own module. \n",
    "\n",
    "During training, it's likely to do some modifications on the module file. We need to reload the module every time we have modified it.\n",
    "\n",
    "Just as following (\"helpers\" is the name of module I built):"
   ]
  },
  {
   "cell_type": "code",
   "execution_count": 22,
   "metadata": {
    "collapsed": true
   },
   "outputs": [],
   "source": [
    "import helpers\n",
    "from importlib import reload\n",
    "reload(helpers)\n",
    "from helpers import *"
   ]
  },
  {
   "cell_type": "markdown",
   "metadata": {},
   "source": [
    "## Load processed data\n",
    "\n",
    "I have documented details of my data processing pipeline. Feel free to have a check on my blog."
   ]
  },
  {
   "cell_type": "code",
   "execution_count": 23,
   "metadata": {
    "collapsed": true
   },
   "outputs": [],
   "source": [
    "# X = np.load(\"X.npy\")\n",
    "# y = np.load(\"y.npy\")\n",
    "# scaled_test = np.load(\"scaled_test.npy\")\n",
    "\n",
    "X = np.load(\"X_scaled.npy\")\n",
    "y = np.load(\"y_log.npy\")\n",
    "scaled_test = np.load(\"test_X_scaled.npy\")"
   ]
  },
  {
   "cell_type": "code",
   "execution_count": 24,
   "metadata": {},
   "outputs": [
    {
     "data": {
      "text/plain": [
       "(1458, 410)"
      ]
     },
     "execution_count": 24,
     "metadata": {},
     "output_type": "execute_result"
    }
   ],
   "source": [
    "X.shape"
   ]
  },
  {
   "cell_type": "code",
   "execution_count": 25,
   "metadata": {},
   "outputs": [
    {
     "name": "stdout",
     "output_type": "stream",
     "text": [
      "LR: 1860147728.348905, 1380448048.8361\n",
      "Ridge: 0.117598, 0.0091\n",
      "Lasso: 0.121594, 0.0058\n",
      "RF: 0.143567, 0.0047\n",
      "GBR: 0.125229, 0.0070\n",
      "SVR: 0.112757, 0.0048\n",
      "LinSVR: 0.122644, 0.0083\n",
      "Ela: 0.111220, 0.0062\n",
      "SGD: 0.163672, 0.0121\n",
      "Bay: 0.110566, 0.0060\n",
      "Ker: 0.109279, 0.0055\n",
      "Extra: 0.139001, 0.0061\n",
      "Xgb: 0.125494, 0.0063\n"
     ]
    }
   ],
   "source": [
    "models = [LinearRegression(),Ridge(),Lasso(alpha=0.01,max_iter=10000),RandomForestRegressor(),GradientBoostingRegressor(),SVR(),LinearSVR(),\n",
    "          ElasticNet(alpha=0.001,max_iter=10000),SGDRegressor(max_iter=1000,tol=1e-3),BayesianRidge(),KernelRidge(alpha=0.6, kernel='polynomial', degree=2, coef0=2.5),\n",
    "          ExtraTreesRegressor(),XGBRegressor()]\n",
    "\n",
    "names = [\"LR\", \"Ridge\", \"Lasso\", \"RF\", \"GBR\", \"SVR\", \"LinSVR\", \"Ela\",\"SGD\",\"Bay\",\"Ker\",\"Extra\",\"Xgb\"]\n",
    "for name, model in zip(names, models):\n",
    "    score = rmse_cv(model, X, y)\n",
    "    print(\"{}: {:.6f}, {:.4f}\".format(name,score.mean(),score.std()))\n",
    "\n"
   ]
  },
  {
   "cell_type": "code",
   "execution_count": 26,
   "metadata": {},
   "outputs": [
    {
     "name": "stdout",
     "output_type": "stream",
     "text": [
      "{'max_iter': 10000, 'alpha': 0.0005} 0.10870999058248038\n",
      "                                 params  mean_test_score  std_test_score\n",
      "0  {'max_iter': 10000, 'alpha': 0.0004}         0.108710        0.003045\n",
      "1  {'max_iter': 10000, 'alpha': 0.0005}         0.108710        0.003020\n",
      "2  {'max_iter': 10000, 'alpha': 0.0007}         0.109444        0.003036\n",
      "3  {'max_iter': 10000, 'alpha': 0.0006}         0.109015        0.003012\n",
      "4  {'max_iter': 10000, 'alpha': 0.0009}         0.110222        0.003026\n",
      "5  {'max_iter': 10000, 'alpha': 0.0008}         0.109866        0.003050\n"
     ]
    }
   ],
   "source": [
    "lasso_best = grid(Lasso()).grid_get(X,y,{'alpha': [0.0004,0.0005,0.0007,0.0006,0.0009,0.0008],'max_iter':[10000]})"
   ]
  },
  {
   "cell_type": "code",
   "execution_count": 27,
   "metadata": {},
   "outputs": [
    {
     "name": "stdout",
     "output_type": "stream",
     "text": [
      "{'alpha': 35} 0.10863738614860778\n",
      "          params  mean_test_score  std_test_score\n",
      "0  {'alpha': 35}         0.108637        0.003011\n",
      "1  {'alpha': 40}         0.108655        0.002995\n",
      "2  {'alpha': 45}         0.108684        0.002982\n",
      "3  {'alpha': 50}         0.108719        0.002972\n",
      "4  {'alpha': 55}         0.108761        0.002964\n",
      "5  {'alpha': 60}         0.108806        0.002958\n",
      "6  {'alpha': 65}         0.108855        0.002953\n",
      "7  {'alpha': 70}         0.108906        0.002950\n",
      "8  {'alpha': 80}         0.109014        0.002945\n",
      "9  {'alpha': 90}         0.109128        0.002943\n"
     ]
    }
   ],
   "source": [
    "ridge_best=grid(Ridge()).grid_get(X,y,{'alpha':[35,40,45,50,55,60,65,70,80,90]})"
   ]
  },
  {
   "cell_type": "code",
   "execution_count": 28,
   "metadata": {},
   "outputs": [
    {
     "name": "stdout",
     "output_type": "stream",
     "text": [
      "{'gamma': 0.0004, 'kernel': 'rbf', 'epsilon': 0.008, 'C': 15} 0.10613736447556428\n",
      "                                               params  mean_test_score  \\\n",
      "0   {'gamma': 0.0003, 'kernel': 'rbf', 'epsilon': ...         0.106940   \n",
      "1   {'gamma': 0.0004, 'kernel': 'rbf', 'epsilon': ...         0.106369   \n",
      "2   {'gamma': 0.0003, 'kernel': 'rbf', 'epsilon': ...         0.106881   \n",
      "3   {'gamma': 0.0004, 'kernel': 'rbf', 'epsilon': ...         0.106355   \n",
      "4   {'gamma': 0.0003, 'kernel': 'rbf', 'epsilon': ...         0.106825   \n",
      "5   {'gamma': 0.0004, 'kernel': 'rbf', 'epsilon': ...         0.106260   \n",
      "6   {'gamma': 0.0003, 'kernel': 'rbf', 'epsilon': ...         0.106781   \n",
      "7   {'gamma': 0.0004, 'kernel': 'rbf', 'epsilon': ...         0.106246   \n",
      "8   {'gamma': 0.0003, 'kernel': 'rbf', 'epsilon': ...         0.106715   \n",
      "9   {'gamma': 0.0004, 'kernel': 'rbf', 'epsilon': ...         0.106181   \n",
      "10  {'gamma': 0.0003, 'kernel': 'rbf', 'epsilon': ...         0.106698   \n",
      "11  {'gamma': 0.0004, 'kernel': 'rbf', 'epsilon': ...         0.106187   \n",
      "12  {'gamma': 0.0003, 'kernel': 'rbf', 'epsilon': ...         0.106623   \n",
      "13  {'gamma': 0.0004, 'kernel': 'rbf', 'epsilon': ...         0.106150   \n",
      "14  {'gamma': 0.0003, 'kernel': 'rbf', 'epsilon': ...         0.106607   \n",
      "15  {'gamma': 0.0004, 'kernel': 'rbf', 'epsilon': ...         0.106164   \n",
      "16  {'gamma': 0.0003, 'kernel': 'rbf', 'epsilon': ...         0.106535   \n",
      "17  {'gamma': 0.0004, 'kernel': 'rbf', 'epsilon': ...         0.106137   \n",
      "18  {'gamma': 0.0003, 'kernel': 'rbf', 'epsilon': ...         0.106500   \n",
      "19  {'gamma': 0.0004, 'kernel': 'rbf', 'epsilon': ...         0.106151   \n",
      "\n",
      "    std_test_score  \n",
      "0         0.003543  \n",
      "1         0.003544  \n",
      "2         0.003533  \n",
      "3         0.003535  \n",
      "4         0.003526  \n",
      "5         0.003554  \n",
      "6         0.003526  \n",
      "7         0.003545  \n",
      "8         0.003523  \n",
      "9         0.003563  \n",
      "10        0.003527  \n",
      "11        0.003558  \n",
      "12        0.003528  \n",
      "13        0.003564  \n",
      "14        0.003527  \n",
      "15        0.003560  \n",
      "16        0.003534  \n",
      "17        0.003562  \n",
      "18        0.003532  \n",
      "19        0.003562  \n"
     ]
    }
   ],
   "source": [
    "svr_best = grid(SVR()).grid_get(X,y,{'C':[11,12,13,14,15],'kernel':[\"rbf\"],\"gamma\":[0.0003,0.0004],\"epsilon\":[0.008,0.009]})\n"
   ]
  },
  {
   "cell_type": "code",
   "execution_count": 29,
   "metadata": {},
   "outputs": [
    {
     "name": "stdout",
     "output_type": "stream",
     "text": [
      "{'kernel': 'polynomial', 'degree': 3, 'coef0': 1.2, 'alpha': 0.3} 0.1066923330086768\n",
      "                                               params  mean_test_score  \\\n",
      "0   {'kernel': 'polynomial', 'degree': 3, 'coef0':...         0.106743   \n",
      "1   {'kernel': 'polynomial', 'degree': 3, 'coef0':...         0.106712   \n",
      "2   {'kernel': 'polynomial', 'degree': 3, 'coef0':...         0.106905   \n",
      "3   {'kernel': 'polynomial', 'degree': 3, 'coef0':...         0.107054   \n",
      "4   {'kernel': 'polynomial', 'degree': 3, 'coef0':...         0.106698   \n",
      "5   {'kernel': 'polynomial', 'degree': 3, 'coef0':...         0.106692   \n",
      "6   {'kernel': 'polynomial', 'degree': 3, 'coef0':...         0.107520   \n",
      "7   {'kernel': 'polynomial', 'degree': 3, 'coef0':...         0.106868   \n",
      "8   {'kernel': 'polynomial', 'degree': 3, 'coef0':...         0.106712   \n",
      "9   {'kernel': 'polynomial', 'degree': 3, 'coef0':...         0.108056   \n",
      "10  {'kernel': 'polynomial', 'degree': 3, 'coef0':...         0.107108   \n",
      "11  {'kernel': 'polynomial', 'degree': 3, 'coef0':...         0.106819   \n",
      "\n",
      "    std_test_score  \n",
      "0         0.003230  \n",
      "1         0.003307  \n",
      "2         0.003378  \n",
      "3         0.003140  \n",
      "4         0.003207  \n",
      "5         0.003270  \n",
      "6         0.003086  \n",
      "7         0.003145  \n",
      "8         0.003201  \n",
      "9         0.003048  \n",
      "10        0.003102  \n",
      "11        0.003153  \n"
     ]
    }
   ],
   "source": [
    "param_grid={'alpha':[0.2,0.3,0.4,0.5], 'kernel':[\"polynomial\"], 'degree':[3],'coef0':[0.8,1,1.2]}\n",
    "ker_best = grid(KernelRidge()).grid_get(X,y,param_grid)\n",
    "\n"
   ]
  },
  {
   "cell_type": "code",
   "execution_count": 30,
   "metadata": {},
   "outputs": [
    {
     "name": "stdout",
     "output_type": "stream",
     "text": [
      "{'max_iter': 10000, 'l1_ratio': 0.5, 'alpha': 0.0008} 0.10870722583030155\n",
      "                                               params  mean_test_score  \\\n",
      "0   {'max_iter': 10000, 'l1_ratio': 0.08, 'alpha':...         0.112507   \n",
      "1   {'max_iter': 10000, 'l1_ratio': 0.1, 'alpha': ...         0.112061   \n",
      "2   {'max_iter': 10000, 'l1_ratio': 0.3, 'alpha': ...         0.109899   \n",
      "3   {'max_iter': 10000, 'l1_ratio': 0.5, 'alpha': ...         0.109294   \n",
      "4   {'max_iter': 10000, 'l1_ratio': 0.7, 'alpha': ...         0.108820   \n",
      "5   {'max_iter': 10000, 'l1_ratio': 0.08, 'alpha':...         0.111120   \n",
      "6   {'max_iter': 10000, 'l1_ratio': 0.1, 'alpha': ...         0.110722   \n",
      "7   {'max_iter': 10000, 'l1_ratio': 0.3, 'alpha': ...         0.109269   \n",
      "8   {'max_iter': 10000, 'l1_ratio': 0.5, 'alpha': ...         0.108707   \n",
      "9   {'max_iter': 10000, 'l1_ratio': 0.7, 'alpha': ...         0.108849   \n",
      "10  {'max_iter': 10000, 'l1_ratio': 0.08, 'alpha':...         0.108820   \n",
      "11  {'max_iter': 10000, 'l1_ratio': 0.1, 'alpha': ...         0.108778   \n",
      "12  {'max_iter': 10000, 'l1_ratio': 0.3, 'alpha': ...         0.111216   \n",
      "13  {'max_iter': 10000, 'l1_ratio': 0.5, 'alpha': ...         0.113065   \n",
      "14  {'max_iter': 10000, 'l1_ratio': 0.7, 'alpha': ...         0.114130   \n",
      "15  {'max_iter': 10000, 'l1_ratio': 0.08, 'alpha':...         0.108811   \n",
      "16  {'max_iter': 10000, 'l1_ratio': 0.1, 'alpha': ...         0.108956   \n",
      "17  {'max_iter': 10000, 'l1_ratio': 0.3, 'alpha': ...         0.112254   \n",
      "18  {'max_iter': 10000, 'l1_ratio': 0.5, 'alpha': ...         0.113668   \n",
      "19  {'max_iter': 10000, 'l1_ratio': 0.7, 'alpha': ...         0.115415   \n",
      "\n",
      "    std_test_score  \n",
      "0         0.003672  \n",
      "1         0.003629  \n",
      "2         0.003305  \n",
      "3         0.003178  \n",
      "4         0.003065  \n",
      "5         0.003519  \n",
      "6         0.003467  \n",
      "7         0.003183  \n",
      "8         0.003041  \n",
      "9         0.003009  \n",
      "10        0.003040  \n",
      "11        0.003012  \n",
      "12        0.003026  \n",
      "13        0.003063  \n",
      "14        0.003125  \n",
      "15        0.003005  \n",
      "16        0.002993  \n",
      "17        0.003047  \n",
      "18        0.003103  \n",
      "19        0.003151  \n"
     ]
    }
   ],
   "source": [
    "ela_best = grid(ElasticNet()).grid_get(X,y,{'alpha':[0.0005,0.0008,0.004,0.005],'l1_ratio':[0.08,0.1,0.3,0.5,0.7],'max_iter':[10000]})"
   ]
  },
  {
   "cell_type": "code",
   "execution_count": 31,
   "metadata": {
    "collapsed": true
   },
   "outputs": [],
   "source": [
    "bay = BayesianRidge()"
   ]
  },
  {
   "cell_type": "markdown",
   "metadata": {},
   "source": [
    "## Stacking"
   ]
  },
  {
   "cell_type": "code",
   "execution_count": 32,
   "metadata": {
    "collapsed": true
   },
   "outputs": [],
   "source": [
    "lasso = Lasso(alpha=0.0005,max_iter=10000)\n",
    "ridge = Ridge(alpha=60)\n",
    "svr = SVR(gamma= 0.0004,kernel='rbf',C=13,epsilon=0.009)\n",
    "ker = KernelRidge(alpha=0.2 ,kernel='polynomial',degree=3 , coef0=0.8)\n",
    "ela = ElasticNet(alpha=0.005,l1_ratio=0.08,max_iter=10000)\n",
    "bay = BayesianRidge()"
   ]
  },
  {
   "cell_type": "code",
   "execution_count": 33,
   "metadata": {},
   "outputs": [
    {
     "name": "stdout",
     "output_type": "stream",
     "text": [
      "[0.10298996 0.10928527 0.1170537  0.09877946 0.10450595]\n"
     ]
    }
   ],
   "source": [
    "# stack_model = stacking(mod=[lasso_best,ridge_best,svr_best,ker_best,ela_best,bay],meta_model=ker_best)\n",
    "stack_model = stacking(mod=[lasso,ridge,svr,ker,ela,bay],meta_model=ker)\n",
    "print(rmse_cv(stack_model,X,y))\n"
   ]
  },
  {
   "cell_type": "code",
   "execution_count": 34,
   "metadata": {},
   "outputs": [
    {
     "name": "stdout",
     "output_type": "stream",
     "text": [
      "[0.09843626 0.10439415 0.11256335 0.09446302 0.09983553]\n"
     ]
    }
   ],
   "source": [
    "X_train_stack, X_test_stack = stack_model.get_oof(X,y,scaled_test)\n",
    "X_train_add = np.hstack((X,X_train_stack))\n",
    "X_test_add = np.hstack((scaled_test,X_test_stack))\n",
    "print(rmse_cv(stack_model,X_train_add,y))\n",
    "\n"
   ]
  },
  {
   "cell_type": "markdown",
   "metadata": {},
   "source": [
    "## Finally!"
   ]
  },
  {
   "cell_type": "code",
   "execution_count": 35,
   "metadata": {},
   "outputs": [
    {
     "data": {
      "text/plain": [
       "stacking(meta_model=KernelRidge(alpha=0.2, coef0=0.8, degree=3, gamma=None, kernel='polynomial',\n",
       "      kernel_params=None),\n",
       "     mod=[Lasso(alpha=0.0005, copy_X=True, fit_intercept=True, max_iter=10000,\n",
       "   normalize=False, positive=False, precompute=False, random_state=None,\n",
       "   selection='cyclic', tol=0.0001, warm_start=False), Ridge(alpha=60, copy_X=True, fit_intercept=True, max_iter=None,\n",
       "   normalize=False, random_state=No...True, lambda_1=1e-06, lambda_2=1e-06, n_iter=300,\n",
       "       normalize=False, tol=0.001, verbose=False)])"
      ]
     },
     "execution_count": 35,
     "metadata": {},
     "output_type": "execute_result"
    }
   ],
   "source": [
    "stack_model.fit(X,y)"
   ]
  },
  {
   "cell_type": "code",
   "execution_count": 36,
   "metadata": {
    "collapsed": true
   },
   "outputs": [],
   "source": [
    "pred = np.exp(stack_model.predict(scaled_test))"
   ]
  },
  {
   "cell_type": "code",
   "execution_count": 37,
   "metadata": {},
   "outputs": [
    {
     "data": {
      "text/html": [
       "<div>\n",
       "<style>\n",
       "    .dataframe thead tr:only-child th {\n",
       "        text-align: right;\n",
       "    }\n",
       "\n",
       "    .dataframe thead th {\n",
       "        text-align: left;\n",
       "    }\n",
       "\n",
       "    .dataframe tbody tr th {\n",
       "        vertical-align: top;\n",
       "    }\n",
       "</style>\n",
       "<table border=\"1\" class=\"dataframe\">\n",
       "  <thead>\n",
       "    <tr style=\"text-align: right;\">\n",
       "      <th></th>\n",
       "      <th>Id</th>\n",
       "      <th>SalePrice</th>\n",
       "    </tr>\n",
       "  </thead>\n",
       "  <tbody>\n",
       "    <tr>\n",
       "      <th>1458</th>\n",
       "      <td>2919</td>\n",
       "      <td>187741.866657</td>\n",
       "    </tr>\n",
       "  </tbody>\n",
       "</table>\n",
       "</div>"
      ],
      "text/plain": [
       "        Id      SalePrice\n",
       "1458  2919  187741.866657"
      ]
     },
     "execution_count": 37,
     "metadata": {},
     "output_type": "execute_result"
    }
   ],
   "source": [
    "sub=pd.read_csv(\"sample_submission.csv\")\n",
    "sub.tail(1)"
   ]
  },
  {
   "cell_type": "code",
   "execution_count": 38,
   "metadata": {
    "collapsed": true
   },
   "outputs": [],
   "source": [
    "from time import gmtime, strftime\n",
    "submName = strftime(\"%Y%m%d%H%M%S\", gmtime()) + '_submission.csv'\n",
    "sub['SalePrice']=pred\n",
    "sub.to_csv(submName, index=False)"
   ]
  },
  {
   "cell_type": "code",
   "execution_count": null,
   "metadata": {
    "collapsed": true
   },
   "outputs": [],
   "source": []
  }
 ],
 "metadata": {
  "kernelspec": {
   "display_name": "Python 3",
   "language": "python",
   "name": "python3"
  },
  "language_info": {
   "codemirror_mode": {
    "name": "ipython",
    "version": 3
   },
   "file_extension": ".py",
   "mimetype": "text/x-python",
   "name": "python",
   "nbconvert_exporter": "python",
   "pygments_lexer": "ipython3",
   "version": "3.5.3"
  },
  "toc": {
   "colors": {
    "hover_highlight": "#DAA520",
    "navigate_num": "#000000",
    "navigate_text": "#333333",
    "running_highlight": "#FF0000",
    "selected_highlight": "#FFD700",
    "sidebar_border": "#EEEEEE",
    "wrapper_background": "#FFFFFF"
   },
   "moveMenuLeft": true,
   "nav_menu": {
    "height": "12px",
    "width": "252px"
   },
   "navigate_menu": true,
   "number_sections": true,
   "sideBar": true,
   "threshold": 4,
   "toc_cell": false,
   "toc_section_display": "block",
   "toc_window_display": false,
   "widenNotebook": false
  }
 },
 "nbformat": 4,
 "nbformat_minor": 2
}

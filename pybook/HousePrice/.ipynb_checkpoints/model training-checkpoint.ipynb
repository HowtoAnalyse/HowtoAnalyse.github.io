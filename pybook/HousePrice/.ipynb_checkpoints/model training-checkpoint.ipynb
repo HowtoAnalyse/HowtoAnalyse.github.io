{
 "cells": [
  {
   "cell_type": "markdown",
   "metadata": {},
   "source": [
    "There are methods that are common in machine learning projects like cross validation, grid searching and stacking.\n",
    "\n",
    "So I wrapped them into a common module in helper.py. \n",
    "\n",
    "In this script, I will call those functions directly. Feel free to have a check at my github for source code.\n",
    "\n"
   ]
  },
  {
   "cell_type": "code",
   "execution_count": 1,
   "metadata": {},
   "outputs": [
    {
     "name": "stderr",
     "output_type": "stream",
     "text": [
      "/Users/zxy/anaconda/envs/py35/lib/python3.5/site-packages/sklearn/cross_validation.py:41: DeprecationWarning: This module was deprecated in version 0.18 in favor of the model_selection module into which all the refactored classes and functions are moved. Also note that the interface of the new CV iterators are different from that of this module. This module will be removed in 0.20.\n",
      "  \"This module will be removed in 0.20.\", DeprecationWarning)\n"
     ]
    }
   ],
   "source": [
    "from sklearn.linear_model import LinearRegression, Ridge, Lasso, ElasticNet, SGDRegressor, BayesianRidge\n",
    "from sklearn.ensemble import RandomForestRegressor, GradientBoostingRegressor, ExtraTreesRegressor\n",
    "from sklearn.svm import SVR, LinearSVR\n",
    "from sklearn.kernel_ridge import KernelRidge\n",
    "from xgboost import XGBRegressor\n",
    "\n",
    "import numpy as np\n",
    "import pandas as pd\n"
   ]
  },
  {
   "cell_type": "code",
   "execution_count": 2,
   "metadata": {},
   "outputs": [],
   "source": [
    "import helpers\n",
    "from importlib import reload\n",
    "reload(helpers)\n",
    "from helpers import *"
   ]
  },
  {
   "cell_type": "code",
   "execution_count": 3,
   "metadata": {
    "collapsed": true
   },
   "outputs": [],
   "source": [
    "X = np.load(\"X.npy\")\n",
    "y = np.load(\"y.npy\")\n",
    "scaled_test = np.load(\"scaled_test.npy\")"
   ]
  },
  {
   "cell_type": "code",
   "execution_count": 4,
   "metadata": {},
   "outputs": [],
   "source": [
    "# models = [LinearRegression(),Ridge(),Lasso(alpha=0.01,max_iter=10000),RandomForestRegressor(),GradientBoostingRegressor(),SVR(),LinearSVR(),\n",
    "#           ElasticNet(alpha=0.001,max_iter=10000),SGDRegressor(max_iter=1000,tol=1e-3),BayesianRidge(),KernelRidge(alpha=0.6, kernel='polynomial', degree=2, coef0=2.5),\n",
    "#           ExtraTreesRegressor(),XGBRegressor()]\n",
    "\n",
    "# names = [\"LR\", \"Ridge\", \"Lasso\", \"RF\", \"GBR\", \"SVR\", \"LinSVR\", \"Ela\",\"SGD\",\"Bay\",\"Ker\",\"Extra\",\"Xgb\"]\n",
    "# for name, model in zip(names, models):\n",
    "#     score = rmse_cv(model, X, y)\n",
    "#     print(\"{}: {:.6f}, {:.4f}\".format(name,score.mean(),score.std()))\n",
    "\n"
   ]
  },
  {
   "cell_type": "code",
   "execution_count": 5,
   "metadata": {},
   "outputs": [
    {
     "name": "stdout",
     "output_type": "stream",
     "text": [
      "{'alpha': 0.0005, 'max_iter': 10000} 0.107202347338\n",
      "                                 params  mean_test_score  std_test_score\n",
      "0  {'alpha': 0.0004, 'max_iter': 10000}         0.107326        0.003200\n",
      "1  {'alpha': 0.0005, 'max_iter': 10000}         0.107202        0.003151\n",
      "2  {'alpha': 0.0007, 'max_iter': 10000}         0.107412        0.003104\n",
      "3  {'alpha': 0.0006, 'max_iter': 10000}         0.107268        0.003121\n",
      "4  {'alpha': 0.0009, 'max_iter': 10000}         0.107871        0.003099\n",
      "5  {'alpha': 0.0008, 'max_iter': 10000}         0.107619        0.003103\n"
     ]
    }
   ],
   "source": [
    "lasso_best = grid(Lasso()).grid_get(X,y,{'alpha': [0.0004,0.0005,0.0007,0.0006,0.0009,0.0008],'max_iter':[10000]})"
   ]
  },
  {
   "cell_type": "code",
   "execution_count": 6,
   "metadata": {},
   "outputs": [
    {
     "name": "stdout",
     "output_type": "stream",
     "text": [
      "{'alpha': 35} 0.108637386149\n",
      "          params  mean_test_score  std_test_score\n",
      "0  {'alpha': 35}         0.108637        0.003011\n",
      "1  {'alpha': 40}         0.108655        0.002995\n",
      "2  {'alpha': 45}         0.108684        0.002982\n",
      "3  {'alpha': 50}         0.108719        0.002972\n",
      "4  {'alpha': 55}         0.108761        0.002964\n",
      "5  {'alpha': 60}         0.108806        0.002958\n",
      "6  {'alpha': 65}         0.108855        0.002953\n",
      "7  {'alpha': 70}         0.108906        0.002950\n",
      "8  {'alpha': 80}         0.109014        0.002945\n",
      "9  {'alpha': 90}         0.109128        0.002943\n"
     ]
    }
   ],
   "source": [
    "ridge_best=grid(Ridge()).grid_get(X,y,{'alpha':[35,40,45,50,55,60,65,70,80,90]})"
   ]
  },
  {
   "cell_type": "code",
   "execution_count": 7,
   "metadata": {},
   "outputs": [
    {
     "name": "stdout",
     "output_type": "stream",
     "text": [
      "{'C': 15, 'gamma': 0.0004, 'epsilon': 0.008, 'kernel': 'rbf'} 0.106137364476\n",
      "                                               params  mean_test_score  \\\n",
      "0   {'C': 11, 'gamma': 0.0003, 'epsilon': 0.008, '...         0.106940   \n",
      "1   {'C': 11, 'gamma': 0.0004, 'epsilon': 0.008, '...         0.106369   \n",
      "2   {'C': 11, 'gamma': 0.0003, 'epsilon': 0.009, '...         0.106881   \n",
      "3   {'C': 11, 'gamma': 0.0004, 'epsilon': 0.009, '...         0.106355   \n",
      "4   {'C': 12, 'gamma': 0.0003, 'epsilon': 0.008, '...         0.106825   \n",
      "5   {'C': 12, 'gamma': 0.0004, 'epsilon': 0.008, '...         0.106260   \n",
      "6   {'C': 12, 'gamma': 0.0003, 'epsilon': 0.009, '...         0.106781   \n",
      "7   {'C': 12, 'gamma': 0.0004, 'epsilon': 0.009, '...         0.106246   \n",
      "8   {'C': 13, 'gamma': 0.0003, 'epsilon': 0.008, '...         0.106715   \n",
      "9   {'C': 13, 'gamma': 0.0004, 'epsilon': 0.008, '...         0.106181   \n",
      "10  {'C': 13, 'gamma': 0.0003, 'epsilon': 0.009, '...         0.106698   \n",
      "11  {'C': 13, 'gamma': 0.0004, 'epsilon': 0.009, '...         0.106187   \n",
      "12  {'C': 14, 'gamma': 0.0003, 'epsilon': 0.008, '...         0.106623   \n",
      "13  {'C': 14, 'gamma': 0.0004, 'epsilon': 0.008, '...         0.106150   \n",
      "14  {'C': 14, 'gamma': 0.0003, 'epsilon': 0.009, '...         0.106607   \n",
      "15  {'C': 14, 'gamma': 0.0004, 'epsilon': 0.009, '...         0.106164   \n",
      "16  {'C': 15, 'gamma': 0.0003, 'epsilon': 0.008, '...         0.106535   \n",
      "17  {'C': 15, 'gamma': 0.0004, 'epsilon': 0.008, '...         0.106137   \n",
      "18  {'C': 15, 'gamma': 0.0003, 'epsilon': 0.009, '...         0.106500   \n",
      "19  {'C': 15, 'gamma': 0.0004, 'epsilon': 0.009, '...         0.106151   \n",
      "\n",
      "    std_test_score  \n",
      "0         0.003543  \n",
      "1         0.003544  \n",
      "2         0.003533  \n",
      "3         0.003535  \n",
      "4         0.003526  \n",
      "5         0.003554  \n",
      "6         0.003526  \n",
      "7         0.003545  \n",
      "8         0.003523  \n",
      "9         0.003563  \n",
      "10        0.003527  \n",
      "11        0.003558  \n",
      "12        0.003528  \n",
      "13        0.003564  \n",
      "14        0.003527  \n",
      "15        0.003560  \n",
      "16        0.003534  \n",
      "17        0.003562  \n",
      "18        0.003532  \n",
      "19        0.003562  \n"
     ]
    }
   ],
   "source": [
    "svr_best = grid(SVR()).grid_get(X,y,{'C':[11,12,13,14,15],'kernel':[\"rbf\"],\"gamma\":[0.0003,0.0004],\"epsilon\":[0.008,0.009]})\n"
   ]
  },
  {
   "cell_type": "code",
   "execution_count": null,
   "metadata": {},
   "outputs": [
    {
     "name": "stdout",
     "output_type": "stream",
     "text": [
      "{'alpha': 0.3, 'degree': 3, 'kernel': 'polynomial', 'coef0': 1.2} 0.10715301547\n",
      "                                               params  mean_test_score  \\\n",
      "0   {'alpha': 0.2, 'degree': 3, 'kernel': 'polynom...         0.108579   \n",
      "1   {'alpha': 0.2, 'degree': 3, 'kernel': 'polynom...         0.107362   \n",
      "2   {'alpha': 0.2, 'degree': 3, 'kernel': 'polynom...         0.107167   \n",
      "3   {'alpha': 0.3, 'degree': 3, 'kernel': 'polynom...         0.110112   \n",
      "4   {'alpha': 0.3, 'degree': 3, 'kernel': 'polynom...         0.107802   \n",
      "5   {'alpha': 0.3, 'degree': 3, 'kernel': 'polynom...         0.107153   \n",
      "6   {'alpha': 0.4, 'degree': 3, 'kernel': 'polynom...         0.111889   \n",
      "7   {'alpha': 0.4, 'degree': 3, 'kernel': 'polynom...         0.108480   \n",
      "8   {'alpha': 0.4, 'degree': 3, 'kernel': 'polynom...         0.107397   \n",
      "9   {'alpha': 0.5, 'degree': 3, 'kernel': 'polynom...         0.113770   \n",
      "10  {'alpha': 0.5, 'degree': 3, 'kernel': 'polynom...         0.109262   \n",
      "11  {'alpha': 0.5, 'degree': 3, 'kernel': 'polynom...         0.107748   \n",
      "\n",
      "    std_test_score  \n",
      "0         0.003201  \n",
      "1         0.003276  \n",
      "2         0.003350  \n",
      "3         0.003130  \n",
      "4         0.003183  \n",
      "5         0.003245  \n",
      "6         0.003097  \n",
      "7         0.003131  \n",
      "8         0.003180  \n",
      "9         0.003082  \n",
      "10        0.003099  \n",
      "11        0.003137  \n"
     ]
    }
   ],
   "source": [
    "param_grid={'alpha':[0.2,0.3,0.4,0.5], 'kernel':[\"polynomial\"], 'degree':[3],'coef0':[0.8,1,1.2]}\n",
    "ker_best = grid(KernelRidge()).grid_get(X,y,param_grid)\n",
    "\n"
   ]
  },
  {
   "cell_type": "code",
   "execution_count": null,
   "metadata": {
    "collapsed": true
   },
   "outputs": [],
   "source": [
    "ela_best = grid(ElasticNet()).grid_get(X,y,{'alpha':[0.0005,0.0008,0.004,0.005],'l1_ratio':[0.08,0.1,0.3,0.5,0.7],'max_iter':[10000]})"
   ]
  },
  {
   "cell_type": "code",
   "execution_count": null,
   "metadata": {
    "collapsed": true
   },
   "outputs": [],
   "source": [
    "bay = BayesianRidge()"
   ]
  },
  {
   "cell_type": "markdown",
   "metadata": {},
   "source": [
    "## Stacking"
   ]
  },
  {
   "cell_type": "code",
   "execution_count": null,
   "metadata": {
    "collapsed": true
   },
   "outputs": [],
   "source": [
    "stack_model = stacking(mod=[lasso_best,ridge_best,svr_best,ker_best,ela_best,bay],meta_model=ker_best)\n",
    "print(rmse_cv(stack_model,X,y))\n"
   ]
  },
  {
   "cell_type": "code",
   "execution_count": null,
   "metadata": {
    "collapsed": true
   },
   "outputs": [],
   "source": [
    "X_train_stack, X_test_stack = stack_model.get_oof(a,b,test_X_scaled)\n",
    "X_train_add = np.hstack((X,X_train_stack))\n",
    "X_test_add = np.hstack((scaled_test,X_test_stack))\n",
    "print(rmse_cv(stack_model,X_train_add,y))\n",
    "\n"
   ]
  },
  {
   "cell_type": "code",
   "execution_count": null,
   "metadata": {
    "collapsed": true
   },
   "outputs": [],
   "source": [
    "stack_model.fit(X_train_add,y)"
   ]
  },
  {
   "cell_type": "code",
   "execution_count": null,
   "metadata": {
    "collapsed": true
   },
   "outputs": [],
   "source": [
    "pred = np.exp(stack_model.predict(X_test_add))"
   ]
  },
  {
   "cell_type": "code",
   "execution_count": null,
   "metadata": {
    "collapsed": true
   },
   "outputs": [],
   "source": [
    "sub=pd.read_csv(\"sample_submission.csv\")\n",
    "from time import gmtime, strftime\n",
    "submName = strftime(\"%Y%m%d%H%M%S\", gmtime()) + '_submission.csv'\n",
    "sub['SalePrice']=pred\n",
    "sub.to_csv(submName, index=False)"
   ]
  }
 ],
 "metadata": {
  "kernelspec": {
   "display_name": "Python 3",
   "language": "python",
   "name": "python3"
  },
  "language_info": {
   "codemirror_mode": {
    "name": "ipython",
    "version": 3
   },
   "file_extension": ".py",
   "mimetype": "text/x-python",
   "name": "python",
   "nbconvert_exporter": "python",
   "pygments_lexer": "ipython3",
   "version": "3.5.3"
  },
  "toc": {
   "colors": {
    "hover_highlight": "#DAA520",
    "navigate_num": "#000000",
    "navigate_text": "#333333",
    "running_highlight": "#FF0000",
    "selected_highlight": "#FFD700",
    "sidebar_border": "#EEEEEE",
    "wrapper_background": "#FFFFFF"
   },
   "moveMenuLeft": true,
   "nav_menu": {
    "height": "12px",
    "width": "252px"
   },
   "navigate_menu": true,
   "number_sections": true,
   "sideBar": true,
   "threshold": 4,
   "toc_cell": false,
   "toc_section_display": "block",
   "toc_window_display": false,
   "widenNotebook": false
  }
 },
 "nbformat": 4,
 "nbformat_minor": 2
}

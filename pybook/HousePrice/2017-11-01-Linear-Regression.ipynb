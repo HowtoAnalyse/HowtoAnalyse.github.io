{
 "cells": [
  {
   "cell_type": "markdown",
   "metadata": {},
   "source": [
    "\n",
    "\n",
    "## Linear relationship\n",
    "## Multiple-R squared and p-values\n",
    "## Significant coefficients\n",
    "## Modeling categorical variables\n",
    "### Validation\n",
    "1. Correlation\n",
    "Using the correlation function CORREL(data_y, data_x), we can calculate the correlation between the target and predictor variable. This value is often referred to as r. The range of r is from -1 to +1. The closer r is to plus or minus 1, the higher the correlation between x and y. In our example, the value of r is 0.987, indicating a strong correlation.\n",
    "2. Calculate r-squared\n",
    "While a strong correlation is good, we really want to know how well the data fits our line. Fortunately, we can get a sense of how good the formula is at approximating the data by calculating the coefficient of determination, or r-squared. R-squared is a coefficient between 0 and 1. R-squared is interpreted as the percent of variance in observations that is explained by the model, or the explanatory power of the model. An R-squared value close to 1 would mean that nearly all variance in the target variable is explained by the model. An R-squared value close to 0 would mean that nearly none of the variance in the target variable is explained by the model.\n",
    "Caution about interpreting R-squared\n",
    "How you interpret R-squared depends heavily on the problem you're trying to model and the data you use. For tough problems, a very low R-squared may be acceptable. Also, a high R-squared may result from a poor model. However, in general, the higher the R-squared the better, especially as you add and remove predictor variables to determine the strongest predictive model. To read more about interpreting R-squared, see here. http://blog.minitab.com/blog/adventures-in-statistics-2/regression-analysis-how-do-i-interpret-r-squared-and-assess-the-goodness-of-fit\n",
    "\n",
    "\n",
    "\n",
    "\n",
    "CRISP-DM Steps\n",
    "Business Issue Understanding\n",
    "1. What decisions needs to be made?\n",
    "2. What information is needed to inform those decisions?\n",
    "3. What type of analysis can provide the information needed to inform those decisions?\n",
    "\n",
    "Data Understanding\n",
    "1. What data is needed?\n",
    "2. What data is available?\n",
    "3. What are the important characteristics of the data?\n",
    "Data Preparation\n",
    "1. Gathering\n",
    "When gathering data - you may need to collect data from multiple sources within your organization.\n",
    "2. Cleansing: The data set you are working with may have issues that you want to resolve prior to your analysis. This can be in the form of incorrect or missing data.\n",
    "3. Formatting: You may need to format the data by changing the way a date field appears, renaming a field, or even rotating the data, similar to using a pivot table.\n",
    "4. Blending: You may want to blend, or combine, your data with other datasets to enrich it with additional variables, similar to using the vlookup function in Excel.\n",
    "5. Sampling: Lastly, you may want to sample the dataset and work with a more manageable number of records.\n",
    "\n",
    "Analysis/Modeling\n",
    "\n",
    "Important Steps\n",
    "1. Determine what methodology to use to solve the problem\n",
    "2. Determine the important factors or variables that will help solve the problem\n",
    "3. Build a model to solve the problem\n",
    "4. Run the model and move to the validation phase\n",
    "\n",
    "Validation\n",
    "1. Observe the key results on the model\n",
    "2. Ensure the results make sense within the content of the business problem\n",
    "3. Determine whether to proceed to the next step or return to a previous phase\n",
    "4. Repeat as many times as necessary\n",
    "\n",
    "Presentation/Visualization\n",
    "1. Determine the best method of presenting insights based on both the analysis and audience\n",
    "2. Make sure the amount of information shared is not overwhelming\n",
    "3. Use the results to tell a story to the audience\n",
    "4. For more complex analyses, you may want to walk the audience through the analytical problem solving process\n",
    "5. Always reference the data sources used\n",
    "6. Make sure your analysis supports the decisions that need to be made"
   ]
  },
  {
   "cell_type": "markdown",
   "metadata": {},
   "source": [
    "## Analytical Methodology\n",
    "\n",
    "Non-Predictive Analysis\n",
    "We’ve broken down non-predictive data analysis into four categories: Geospatial, Segmentation, Aggregation, and Descriptive. Let's talk about each.\n",
    "\n",
    "Geospatial Analysis\n",
    "This type of analysis uses location based data to help drive your conclusions. Examples include identifying customers by a geographic region, calculating the distance store locations or creating a trade area based upon customer locations.\n",
    "\n",
    "Segmentation Analysis\n",
    "Segmentation is the process of grouping data together. Groups can be simple, such as customers who have purchased different items, to more complex segmentation techniques where you identify stores that are similar based upon the demographics of their customers.\n",
    "\n",
    "Aggregation Analysis\n",
    "This methodology simply means calculating a value across a group or dimension and is commonly used in data analysis. For example, you may want to aggregate sales data for a salesperson by month - adding all of the sales closed for each month. Then, you may want to aggregate across dimensions, such as sales by month per sales territory. Aggregation is often done in reporting to be able to \"slice and dice\" information to help managers make decisions and view performance.\n",
    "\n",
    "Descriptive Analysis\n",
    "Descriptive statistics provides simple summaries of a data sample. Examples could be calculating average GPA for applicants to a school, or calculating the batting average of a professional baseball player. In our electricity supply scenario, we could use descriptive statistics to calculate the average temperature per hour, per day, or per date. Some of the commonly used descriptive statistics are Mean, Median, Mode, Standard Deviation, and Interquartile range.\n"
   ]
  },
  {
   "cell_type": "markdown",
   "metadata": {},
   "source": [
    "Situations where we don't have data on what we are trying to predict are not suitable for predictive analysis.\n",
    "\n",
    "If there is not sufficient usable data to solve the problem, then we need to set up an experiment to help us get the data we need. An experiment in a business context is usually referred to as an A/B Test.\n",
    "\n",
    "Experiment design becomes critical to make data valid, or more in a more advanced way, enlarge the data usibility as much as we can."
   ]
  }
 ],
 "metadata": {
  "kernelspec": {
   "display_name": "Python 3",
   "language": "python",
   "name": "python3"
  },
  "language_info": {
   "codemirror_mode": {
    "name": "ipython",
    "version": 3
   },
   "file_extension": ".py",
   "mimetype": "text/x-python",
   "name": "python",
   "nbconvert_exporter": "python",
   "pygments_lexer": "ipython3",
   "version": "3.5.2"
  },
  "toc": {
   "colors": {
    "hover_highlight": "#DAA520",
    "navigate_num": "#000000",
    "navigate_text": "#333333",
    "running_highlight": "#FF0000",
    "selected_highlight": "#FFD700",
    "sidebar_border": "#EEEEEE",
    "wrapper_background": "#FFFFFF"
   },
   "moveMenuLeft": true,
   "nav_menu": {
    "height": "12px",
    "width": "252px"
   },
   "navigate_menu": true,
   "number_sections": true,
   "sideBar": true,
   "threshold": 4,
   "toc_cell": false,
   "toc_section_display": "block",
   "toc_window_display": false,
   "widenNotebook": false
  }
 },
 "nbformat": 4,
 "nbformat_minor": 2
}
